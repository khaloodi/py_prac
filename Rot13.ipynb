{
 "cells": [
  {
   "cell_type": "code",
   "execution_count": null,
   "metadata": {},
   "outputs": [
    {
     "ename": "",
     "evalue": "",
     "output_type": "error",
     "traceback": [
      "\u001b[1;31mJupyter cannot be started. Error attempting to locate Jupyter: Running cells with 'Python 3.10.5 64-bit' requires jupyter and notebook package.\n",
      "\u001b[1;31mRun the following command to install 'jupyter and notebook' into the Python environment. \n",
      "\u001b[1;31mCommand: 'python -m pip install jupyter notebook -U\n",
      "\u001b[1;31mor\n",
      "\u001b[1;31mconda install jupyter notebook -U'\n",
      "\u001b[1;31mClick <a href='https://aka.ms/installJupyterForVSCode'>here</a> for more info."
     ]
    }
   ],
   "source": [
    "#!/usr/bin/env python\n",
    "\n",
    "\"\"\"\n",
    "ROT13 is a simple letter substitution cipher that replaces a letter with the letter 13 letters after it in the alphabet.\n",
    "ROT13 is an example of the Caesar cipher.\n",
    "Create a function that takes a string and returns the string ciphered with Rot13. \n",
    "If there are numbers or special characters included in the string, they should be returned as they are. \n",
    "Only letters from the latin/english alphabet should be shifted, like in the original Rot13 \"implementation\".\n",
    "Please note that using encode is considered cheating.\n",
    "\"\"\"\n",
    "\n",
    "def rot13(message):\n",
    "    abc = \"abcdefghijklmnopqrstuvwxyz\"\n",
    "    \n",
    "    \n",
    "    ctr = 0\n",
    "    nw_string = \"\"\n",
    "\n",
    "    for idx, i in enumerate(message):\n",
    "        pos = abc.index(i)\n",
    "        print(pos)\n",
    "        if (i in abc) and (idx < 13):\n",
    "            nw_string += abc[pos + 13]\n",
    "        elif (i in abc) and (idx >= 13):\n",
    "            nw_string += abc[pos - 13]    \n",
    "    \n",
    "    return nw_string\n",
    "\n",
    "print(rot13('test'))"
   ]
  }
 ],
 "metadata": {
  "kernelspec": {
   "display_name": "Python 3.10.5 64-bit",
   "language": "python",
   "name": "python3"
  },
  "language_info": {
   "name": "python",
   "version": "3.10.5"
  },
  "orig_nbformat": 4,
  "vscode": {
   "interpreter": {
    "hash": "610c699f0cd8c4f129acd9140687fff6866bed0eb8e82f249fc8848b827b628c"
   }
  }
 },
 "nbformat": 4,
 "nbformat_minor": 2
}
